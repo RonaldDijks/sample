{
 "cells": [
  {
   "cell_type": "code",
   "execution_count": 27,
   "metadata": {
    "collapsed": true,
    "pycharm": {
     "is_executing": false,
     "name": "#%%\n"
    }
   },
   "outputs": [],
   "source": [
    "import librosa\n",
    "import numpy\n",
    "from sklearn.decomposition import PCA\n",
    "from librosa.util import fix_length\n",
    "from librosa.feature import spectral_centroid, spectral_flatness, spectral_contrast\n",
    "\n",
    "path = \"/home/ronald/code/sample/features/samples/BTDK_Kick_01.wav\"\n",
    "\n",
    "y, sr = librosa.load(path)\n",
    "\n",
    "def extract_features(y, sr):\n",
    "    fixed_size = 216\n",
    "\n",
    "    centroid = spectral_centroid(y, sr)\n",
    "    centroid = fix_length(centroid, size=fixed_size)\n",
    "    \n",
    "    contrast = spectral_contrast(y, sr, n_bands=6)\n",
    "    contrast = fix_length(contrast, size=fixed_size)\n",
    "    \n",
    "    flatness = spectral_flatness(y)\n",
    "    flatness = fix_length(flatness, size=fixed_size)\n",
    "    \n",
    "    features = numpy.append(centroid, contrast)\n",
    "    features = numpy.append(features, flatness)\n",
    "    \n",
    "    return features\n",
    "\n",
    "features = extract_features(y, sr)\n",
    "\n",
    "pca = PCA(n_components=2)"
   ]
  }
 ],
 "metadata": {
  "kernelspec": {
   "display_name": "Python 3",
   "language": "python",
   "name": "python3"
  },
  "language_info": {
   "codemirror_mode": {
    "name": "ipython",
    "version": 2
   },
   "file_extension": ".py",
   "mimetype": "text/x-python",
   "name": "python",
   "nbconvert_exporter": "python",
   "pygments_lexer": "ipython2",
   "version": "2.7.6"
  },
  "pycharm": {
   "stem_cell": {
    "cell_type": "raw",
    "source": [],
    "metadata": {
     "collapsed": false
    }
   }
  }
 },
 "nbformat": 4,
 "nbformat_minor": 0
}