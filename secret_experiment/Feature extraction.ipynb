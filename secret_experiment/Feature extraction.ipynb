{
 "cells": [
  {
   "cell_type": "markdown",
   "metadata": {},
   "source": [
    "## Spectral Centroid"
   ]
  },
  {
   "cell_type": "code",
   "execution_count": 43,
   "metadata": {},
   "outputs": [],
   "source": [
    "import librosa\n",
    "from scipy.io import wavfile as wav\n",
    "import numpy as np\n",
    "from sklearn.decomposition import PCA\n",
    "\n",
    "sample_kick_1 = 'C:/Users/Sil/Documents/Ableton/User Library/Samples/Bryson Tiller Drum Kit/Kicks/BTDK_Kick_01.wav'\n",
    "sample_kick_2 = 'C:/Users/Sil/Documents/Ableton/User Library/Samples/Bryson Tiller Drum Kit/Kicks/BTDK_Kick_02.wav'"
   ]
  },
  {
   "cell_type": "code",
   "execution_count": 44,
   "metadata": {},
   "outputs": [
    {
     "name": "stdout",
     "output_type": "stream",
     "text": [
      "Mean:  1703.9964779555162\n",
      "PCA value:  [1901.63333387]\n"
     ]
    }
   ],
   "source": [
    "y, sr = librosa.load(sample_kick_1)\n",
    "\n",
    "pca = PCA(n_components=1)\n",
    "\n",
    "centroid = librosa.feature.spectral_centroid(y=y, sr=sr)\n",
    "print('Mean: ', np.mean(centroid))\n",
    "pca.fit(centroid.T)\n",
    "print('PCA value: ', pca.singular_values_)"
   ]
  },
  {
   "cell_type": "code",
   "execution_count": 45,
   "metadata": {},
   "outputs": [
    {
     "name": "stdout",
     "output_type": "stream",
     "text": [
      "Mean:  690.2963956228703\n",
      "PCA value:  [794.88058492]\n"
     ]
    }
   ],
   "source": [
    "y, sr = librosa.load(sample_kick_2)\n",
    "\n",
    "pca = PCA(n_components=1)\n",
    "\n",
    "centroid = librosa.feature.spectral_centroid(y=y, sr=sr)\n",
    "print('Mean: ', np.mean(centroid))\n",
    "pca.fit(centroid.T)\n",
    "print('PCA value: ', pca.singular_values_)"
   ]
  },
  {
   "cell_type": "markdown",
   "metadata": {},
   "source": [
    "## Spectral flatness"
   ]
  },
  {
   "cell_type": "code",
   "execution_count": 56,
   "metadata": {},
   "outputs": [],
   "source": [
    "whitenoise = 'C:/Users/Sil/Documents/Ableton/User Library/Samples/Bryson Tiller Drum Kit/Kicks/whitenoise.wav'\n",
    "sine = 'C:/Users/Sil/Documents/Ableton/User Library/Samples/Bryson Tiller Drum Kit/Kicks/sine.wav'"
   ]
  },
  {
   "cell_type": "code",
   "execution_count": 53,
   "metadata": {},
   "outputs": [
    {
     "name": "stdout",
     "output_type": "stream",
     "text": [
      "Mean  0.0052506644\n"
     ]
    }
   ],
   "source": [
    "y, sr = librosa.load(sample_kick_1)\n",
    "\n",
    "flatness = librosa.feature.spectral_flatness(y=y)\n",
    "print('Mean ', np.mean(flatness))"
   ]
  },
  {
   "cell_type": "code",
   "execution_count": 54,
   "metadata": {},
   "outputs": [
    {
     "name": "stdout",
     "output_type": "stream",
     "text": [
      "Mean  0.00013977216\n"
     ]
    }
   ],
   "source": [
    "y, sr = librosa.load(sample_kick_2)\n",
    "\n",
    "flatness = librosa.feature.spectral_flatness(y=y)\n",
    "print('Mean ', np.mean(flatness))"
   ]
  },
  {
   "cell_type": "code",
   "execution_count": 59,
   "metadata": {},
   "outputs": [
    {
     "name": "stdout",
     "output_type": "stream",
     "text": [
      "Mean  0.78821886\n"
     ]
    }
   ],
   "source": [
    "y, sr = librosa.load(whitenoise)\n",
    "\n",
    "flatness = librosa.feature.spectral_flatness(y=y)\n",
    "print('Mean ', np.mean(flatness))"
   ]
  },
  {
   "cell_type": "code",
   "execution_count": 60,
   "metadata": {},
   "outputs": [
    {
     "name": "stdout",
     "output_type": "stream",
     "text": [
      "Mean  4.173001e-07\n"
     ]
    }
   ],
   "source": [
    "y, sr = librosa.load(sine)\n",
    "\n",
    "flatness = librosa.feature.spectral_flatness(y=y)\n",
    "print('Mean ', np.mean(flatness))"
   ]
  },
  {
   "cell_type": "markdown",
   "metadata": {},
   "source": [
    "## Tonal centroid"
   ]
  },
  {
   "cell_type": "code",
   "execution_count": 64,
   "metadata": {},
   "outputs": [
    {
     "name": "stdout",
     "output_type": "stream",
     "text": [
      "Tonal centroid:   -0.02068260761081647\n"
     ]
    }
   ],
   "source": [
    "y, sr = librosa.load(sample_kick_1)\n",
    "y = librosa.effects.harmonic(y)\n",
    "tonnetz = librosa.feature.tonnetz(y=y, sr=sr)\n",
    "\n",
    "print('Tonal centroid:  ', np.mean(tonnetz))"
   ]
  },
  {
   "cell_type": "code",
   "execution_count": 66,
   "metadata": {},
   "outputs": [
    {
     "name": "stdout",
     "output_type": "stream",
     "text": [
      "Tonal centroid:   0.0906042582087345\n"
     ]
    }
   ],
   "source": [
    "y, sr = librosa.load(sample_kick_2)\n",
    "y = librosa.effects.harmonic(y)\n",
    "tonnetz = librosa.feature.tonnetz(y=y, sr=sr)\n",
    "\n",
    "print('Tonal centroid:  ', np.mean(tonnetz))"
   ]
  },
  {
   "cell_type": "markdown",
   "metadata": {},
   "source": [
    "## Spectral contrast"
   ]
  },
  {
   "cell_type": "code",
   "execution_count": 69,
   "metadata": {},
   "outputs": [
    {
     "name": "stdout",
     "output_type": "stream",
     "text": [
      "Contrast:   [[13.86335576 10.34662266 18.69312212 20.13533215 35.10571055 21.79889756\n",
      "  21.47605037 18.00879038 23.63342279 29.99998426 19.82060823 15.27050362\n",
      "  10.06178181  3.96311424  8.38989719  8.38989719  8.38989719  8.38989719\n",
      "   8.38989719  8.38989719  8.38989719  8.38989719  8.38989719  8.38989719\n",
      "   8.38989719  8.38989719  8.38989719  8.38989719  8.38989719  8.38989719\n",
      "   8.38989719  8.38989719  8.38989719  8.38989719  8.38989719  8.38989719\n",
      "   8.38989719  8.38989719  8.38989719  8.38989719  8.38989719  8.38989719\n",
      "   8.38989719  8.38989719]\n",
      " [13.98735768 11.40147802 11.59466223 12.54688733  7.11499559  8.0468213\n",
      "  10.55447853 10.16894499  5.00022764  9.70234704 11.04657109 11.90151907\n",
      "  11.06022614  4.10551594  8.38989719  8.38989719  8.38989719  8.38989719\n",
      "   8.38989719  8.38989719  8.38989719  8.38989719  8.38989719  8.38989719\n",
      "   8.38989719  8.38989719  8.38989719  8.38989719  8.38989719  8.38989719\n",
      "   8.38989719  8.38989719  8.38989719  8.38989719  8.38989719  8.38989719\n",
      "   8.38989719  8.38989719  8.38989719  8.38989719  8.38989719  8.38989719\n",
      "   8.38989719  8.38989719]\n",
      " [17.32855612 13.50147256 13.95401855 10.31823726 16.36946811 14.26596365\n",
      "  11.95291982 17.01093157 11.20493547 13.17340778 11.58076715 11.14834964\n",
      "   9.84837099  4.47414625  8.38989719  8.38989719  8.38989719  8.38989719\n",
      "   8.38989719  8.38989719  8.38989719  8.38989719  8.38989719  8.38989719\n",
      "   8.38989719  8.38989719  8.38989719  8.38989719  8.38989719  8.38989719\n",
      "   8.38989719  8.38989719  8.38989719  8.38989719  8.38989719  8.38989719\n",
      "   8.38989719  8.38989719  8.38989719  8.38989719  8.38989719  8.38989719\n",
      "   8.38989719  8.38989719]\n",
      " [23.53765292 10.97081961 10.159365   11.78920949 12.02417483 10.43817286\n",
      "  14.40004002 11.50054484 18.34699153 15.27375402 11.33635117 10.24950039\n",
      "  12.51965751 12.4364841   8.38989719  8.38989719  8.38989719  8.38989719\n",
      "   8.38989719  8.38989719  8.38989719  8.38989719  8.38989719  8.38989719\n",
      "   8.38989719  8.38989719  8.38989719  8.38989719  8.38989719  8.38989719\n",
      "   8.38989719  8.38989719  8.38989719  8.38989719  8.38989719  8.38989719\n",
      "   8.38989719  8.38989719  8.38989719  8.38989719  8.38989719  8.38989719\n",
      "   8.38989719  8.38989719]\n",
      " [22.72415533 13.23759017 15.41996182 12.57756184 12.9331675  16.59412603\n",
      "  12.85864202 14.1866795  10.98524754 12.33194794 15.93433182 12.78466575\n",
      "  10.364577   13.51728878  8.38989719  8.38989719  8.38989719  8.38989719\n",
      "   8.38989719  8.38989719  8.38989719  8.38989719  8.38989719  8.38989719\n",
      "   8.38989719  8.38989719  8.38989719  8.38989719  8.38989719  8.38989719\n",
      "   8.38989719  8.38989719  8.38989719  8.38989719  8.38989719  8.38989719\n",
      "   8.38989719  8.38989719  8.38989719  8.38989719  8.38989719  8.38989719\n",
      "   8.38989719  8.38989719]\n",
      " [22.30227035 15.21578631 13.50878506 13.79980584 15.24205524 15.28200902\n",
      "  14.65057355 13.24408103 12.99400374 16.83809604 12.26786639 14.01749051\n",
      "  15.48030855 10.25559787  8.38989719  8.38989719  8.38989719  8.38989719\n",
      "   8.38989719  8.38989719  8.38989719  8.38989719  8.38989719  8.38989719\n",
      "   8.38989719  8.38989719  8.38989719  8.38989719  8.38989719  8.38989719\n",
      "   8.38989719  8.38989719  8.38989719  8.38989719  8.38989719  8.38989719\n",
      "   8.38989719  8.38989719  8.38989719  8.38989719  8.38989719  8.38989719\n",
      "   8.38989719  8.38989719]\n",
      " [32.3390506  28.64495511 28.53584481 28.63103013 28.04210986 28.96067372\n",
      "  28.57962472 27.30679393 27.65597003 28.59816654 28.60831134 29.01916659\n",
      "  30.8958482  30.68473398  8.38989719  8.38989719  8.38989719  8.38989719\n",
      "   8.38989719  8.38989719  8.38989719  8.38989719  8.38989719  8.38989719\n",
      "   8.38989719  8.38989719  8.38989719  8.38989719  8.38989719  8.38989719\n",
      "   8.38989719  8.38989719  8.38989719  8.38989719  8.38989719  8.38989719\n",
      "   8.38989719  8.38989719  8.38989719  8.38989719  8.38989719  8.38989719\n",
      "   8.38989719  8.38989719]]\n"
     ]
    }
   ],
   "source": [
    "y, sr = librosa.load(sample_kick_1)\n",
    "S = np.abs(librosa.stft(y))\n",
    "contrast = librosa.feature.spectral_contrast(S=S, sr=sr)\n",
    "\n",
    "print('Contrast:  ', contrast)"
   ]
  },
  {
   "cell_type": "code",
   "execution_count": 70,
   "metadata": {},
   "outputs": [
    {
     "name": "stdout",
     "output_type": "stream",
     "text": [
      "Contrast:   [[ 2.92565392  2.9276226  13.98213864 ... 12.99534758  2.95732611\n",
      "   2.96970955]\n",
      " [11.60662411 15.57961491 37.66032793 ... 37.68456651 18.40614731\n",
      "  12.05153008]\n",
      " [ 7.86803818  7.8699756  17.63180958 ... 17.91235092  7.82487822\n",
      "   7.84369541]\n",
      " ...\n",
      " [ 6.34658522  6.34648115 13.11297486 ... 15.47958263  5.83176916\n",
      "   5.83170173]\n",
      " [ 7.76347349  7.76332008 12.27810388 ... 14.30039261  5.20003187\n",
      "   5.20049221]\n",
      " [21.65375337 21.1231453  14.06333885 ... 12.90229468  4.2151192\n",
      "   4.21334378]]\n"
     ]
    }
   ],
   "source": [
    "y, sr = librosa.load(sample_kick_2)\n",
    "S = np.abs(librosa.stft(y))\n",
    "contrast = librosa.feature.spectral_contrast(S=S, sr=sr)\n",
    "\n",
    "print('Contrast:  ', contrast)"
   ]
  }
 ],
 "metadata": {
  "kernelspec": {
   "display_name": "Python 3",
   "language": "python",
   "name": "python3"
  },
  "language_info": {
   "codemirror_mode": {
    "name": "ipython",
    "version": 3
   },
   "file_extension": ".py",
   "mimetype": "text/x-python",
   "name": "python",
   "nbconvert_exporter": "python",
   "pygments_lexer": "ipython3",
   "version": "3.7.3"
  }
 },
 "nbformat": 4,
 "nbformat_minor": 2
}
